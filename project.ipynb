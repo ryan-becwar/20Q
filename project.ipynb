{
 "cells": [
  {
   "cell_type": "markdown",
   "metadata": {},
   "source": [
    "# 20 Questions"
   ]
  },
  {
   "cell_type": "markdown",
   "metadata": {},
   "source": [
    "*Ryan Becwar and Matthew Dragan*"
   ]
  },
  {
   "cell_type": "markdown",
   "metadata": {},
   "source": [
    "## Introduction\n",
    "An intelligent agent should be able to make decicions given some information.  In addition, such an agent should be able to learn about a new subject given some information on that subject.  In this project we will try to produce a simplified version of the described agent by creating a program that can learn about new items by asking questions about them. \n",
    "\n",
    "The agent will play a version of the 20 questions game. 20 questions is a game in which a computer will try to guess what the player is thinking based on some simple 'yes' or 'no' questions.  In this version the goal objects will consist of fruits and vegetables, and the questions will be specialized for differentiating between fruits and vegetables. \n",
    "Additionally, we will try to produce a version of the game that has the following characteristics:\n",
    "  * The game will determine which question to ask next based on which question most evenly divides the remaining possibilities.  This means that if the game has narrowed the possibilities down to 10 fruits and vegetables then the game will try to pick the next question that has 5 'yes' answers and 5 'no' answers.  \n",
    "  * If the plays plays a fruit or vegetable that the game has not heard of before then the game will add that fruit or vegetable to the database and use the players answers as the 'truth' about that fruit or vegetable.  For example, if the player is playing 'raspberry' and the game has never heard of 'raspberry' before then 'raspberry' will be added to the database and the answers that the player gave will be considered to be the 'truth' about raspberries.  If the player chooses a fruit or vegetable that hasn't been played before then we may ask the player to answer all questions about that fruit or vegetable so the answers will be added to the database.  \n",
    "  * If there are two fruits/vegetables that are hard to tell apart based on the questions (radishes and beets for example) the game will pick the fruit or vegetable that has been played the most frequently (a.k.a. the one that is most likely based on previous plays of the game).  \n",
    "  * The game will be able to get to the correct answer even if the player answers a question wrong.  \n",
    "  * The game will be able to change an answer about a fruit or vegetable if it believes that the current answer is wrong.  For example, say the game was taught that a tomato is a vegatable, and the user plays 'tomato' several times answering that 'yes' a tomato is a fruit then the game will eventually learn that a tomato is more likely a fruit than a vegetable.    \n",
    "  \n",
    "If implemented correctly, and with enough practice, the game should be able to frequently guess the correct fruit or vegetable based on the users input.  "
   ]
  },
  {
   "cell_type": "markdown",
   "metadata": {},
   "source": [
    "## Methods\n",
    "In order to create the game we implemented a twentyQ class in python which will implement all of the functions required to run the game.  "
   ]
  },
  {
   "cell_type": "code",
   "execution_count": 97,
   "metadata": {
    "collapsed": true
   },
   "outputs": [],
   "source": [
    "import numpy as np\n",
    "import pandas as pd\n",
    "import csv\n",
    "import copy as cp"
   ]
  },
  {
   "cell_type": "code",
   "execution_count": 9,
   "metadata": {},
   "outputs": [
    {
     "name": "stdout",
     "output_type": "stream",
     "text": [
      "Writing twentyQ.py\n"
     ]
    }
   ],
   "source": [
    "%%writefile twentyQ.py\n",
    "\n",
    "class twentyQ(object):\n",
    "    def __init__(self):\n",
    "        self.questions = []\n",
    "        self.answers = {}\n",
    "        self.likelihood = {}\n",
    "        self.weightVals = {}\n",
    "        self.questionsUsed = []\n",
    "        self.remainingFood = []\n",
    "        \n",
    "        data, weights = self.readData()\n",
    "        \n",
    "        self.processData(data, weights)\n",
    "        \n",
    "    def readData(self):\n",
    "        # get known data from csv\n",
    "        data = pd.read_csv('tempData.csv')\n",
    "\n",
    "        # get weights from csv\n",
    "        weights = pd.read_csv('tempWeights.csv')\n",
    "\n",
    "        # extract questions\n",
    "        questions = list(data.dtypes.index)\n",
    "        self.questions = questions[1:]\n",
    "\n",
    "        #extract data\n",
    "        data = data.values\n",
    "\n",
    "        # extract weights\n",
    "        weights = weights.values\n",
    "        \n",
    "        return data, weights\n",
    "    \n",
    "    def processData(self, data, weights):\n",
    "        for i in data:\n",
    "            self.answers[i[0]] = i[1:]\n",
    "            self.likelihood[i[0]] = 0\n",
    "            self.remainingFood.append(i[0])\n",
    "    \n",
    "        for i in weights:\n",
    "            self.weightVals[i[0]] = i[1:]\n",
    "            \n",
    "    def getFirstQuestion(self):\n",
    "        countYes = 0\n",
    "        countNo = 0\n",
    "        nextQ = []\n",
    "        for j in range(0,len(self.questions)):\n",
    "            for i in self.answers:\n",
    "                if self.answers[i][j] == 1:\n",
    "                    countYes = countYes + 1\n",
    "                elif self.answers[i][j] == -1:\n",
    "                    countNo = countNo + 1\n",
    "            nextQ.append(abs(countYes - countNo))\n",
    "            countYes = countNo = 0\n",
    "        self.questionsUsed.append(self.questions[np.argmin(nextQ)])\n",
    "        return self.questions[np.argmin(nextQ)]\n",
    "            \n",
    "    def getNextQuestion(self, currentQ, currentA):\n",
    "        couldBe = []\n",
    "        countYes = 0\n",
    "        countNo = 0\n",
    "        nextQ = []\n",
    "        for i in self.answers:\n",
    "            if self.answers[i][self.questions.index(currentQ)] is currentA:\n",
    "                couldBe.append(i)\n",
    "        self.remainingFood = list(set(self.remainingFood) & set(couldBe))\n",
    "        for j in range(0,len(self.questions)):\n",
    "            for i in self.remainingFood:\n",
    "                if self.answers[i][j] == 1:\n",
    "                    countYes = countYes + 1\n",
    "                elif self.answers[i][j] == -1:\n",
    "                    countNo = countNo + 1\n",
    "            nextQ.append(abs(countYes - countNo))\n",
    "            countYes = countNo = 0\n",
    "        self.questionsUsed.append(self.questions[np.argmin(nextQ)])\n",
    "        return self.questions[np.argmin(nextQ)]\n",
    "    \n",
    "    def convertAnswer(self, currentA):\n",
    "        if currentA is 'yes':\n",
    "            return 1\n",
    "        elif currentA is 'no':\n",
    "            return -1\n",
    "        else:\n",
    "            return 0\n",
    "        \n",
    "    def updateLikelihood(self, currentQ, currentA):\n",
    "        for i in self.answers:\n",
    "            if self.answers[i][self.questions.index(currentQ)] is currentA:\n",
    "                self.likelihood[i] = self.likelihood[i] + self.weightVals[i][self.questions.index(currentQ)] *1\n",
    "            else:\n",
    "                self.likelihood[i] = self.likelihood[i] + self.weightVals[i][self.questions.index(currentQ)] *-1\n",
    "                \n",
    "    def updateWeights(self, answer, correct):\n",
    "        if correct is True:\n",
    "            for i in self.questionsUsed:\n",
    "                self.weightVals[answer][self.questions.index(i)] = self.weightVals[answer][self.questions.index(i)] + (1-self.weightVals[answer][self.questions.index(i)])/2 \n",
    "                print(self.weightVals[answer][self.questions.index(i)])\n",
    "        else:\n",
    "            for i in self.questionsUsed:\n",
    "                self.weightVals[answer][self.questions.index(i)] = self.weightVals[answer][self.questions.index(i)] - (1-self.weightVals[answer][self.questions.index(i)])/2\n",
    "                if self.weightVals[answer][self.questions.index(i)] < .0625:\n",
    "                    self.weightVals[answer][self.questions.index(i)] = .5\n",
    "                    self.answers[answer][self.questions.index(i)] = -self.answers[answer][self.questions.index(i)]\n",
    "    \n",
    "    def writeToCSV(self):\n",
    "        Qs = cp.deepcopy(self.questions)\n",
    "        Qs.insert(0, ' ')\n",
    "        \n",
    "        #copy data to csv\n",
    "        myfile = open('tempData.csv', 'w')\n",
    "        with myfile:\n",
    "            myFields = Qs\n",
    "            writer = csv.DictWriter(myfile, fieldnames=myFields)    \n",
    "            writer.writeheader()\n",
    "            for i in self.answers:\n",
    "                newlist = [i]\n",
    "                for j in self.answers[i]:\n",
    "                    newlist.append(j)\n",
    "                writer.writerow({Qs[k]:newlist[k] for k in range(len(Qs))})\n",
    "                    \n",
    "        # copy weights to csv\n",
    "        myfile = open('tempWeights.csv', 'w')\n",
    "        with myfile:\n",
    "            myFields = Qs\n",
    "            writer = csv.DictWriter(myfile, fieldnames=myFields)    \n",
    "            writer.writeheader()\n",
    "            for i in self.weightVals:\n",
    "                newlist = [i]\n",
    "                for j in self.weightVals[i]:\n",
    "                    newlist.append(j)\n",
    "                writer.writerow({Qs[k]:newlist[k] for k in range(len(Qs))})"
   ]
  },
  {
   "cell_type": "code",
   "execution_count": 14,
   "metadata": {},
   "outputs": [
    {
     "data": {
      "text/plain": [
       "{'apple': array([1, -1, 1, -1, 1, -1, -1, 1, -1], dtype=object),\n",
       " 'broccoli': array([-1, -1, -1, -1, -1, 1, 1, -1, -1], dtype=object),\n",
       " 'carrot': array([-1, -1, -1, 1, -1, -1, -1, -1, -1], dtype=object),\n",
       " 'lettuce': array([-1, 1, -1, -1, -1, 1, -1, 1, -1], dtype=object),\n",
       " 'onion': array([-1, 1, -1, 1, -1, -1, -1, 1, -1], dtype=object),\n",
       " 'orange': array([1, -1, 1, -1, -1, -1, -1, 1, -1], dtype=object),\n",
       " 'peach': array([1, -1, 1, -1, 1, -1, -1, 1, -1], dtype=object),\n",
       " 'potato': array([-1, -1, -1, 1, -1, -1, -1, 1, -1], dtype=object),\n",
       " 'raspberry': array([1, -1, -1, -1, 1, -1, 1, -1, -1], dtype=object),\n",
       " 'strawberry': array([1, -1, -1, -1, 1, -1, 1, -1, 1], dtype=object)}"
      ]
     },
     "execution_count": 14,
     "metadata": {},
     "output_type": "execute_result"
    }
   ],
   "source": [
    "me = twentyQ()\n",
    "me.writeToCSV()\n",
    "me.answers"
   ]
  },
  {
   "cell_type": "code",
   "execution_count": 15,
   "metadata": {},
   "outputs": [
    {
     "name": "stdout",
     "output_type": "stream",
     "text": [
      "is it a fruit?\n",
      "['apple', 'orange', 'peach', 'strawberry', 'raspberry', 'carrot', 'potato', 'lettuce', 'onion', 'broccoli']\n",
      "Is it commonly found on a sandwich?\n",
      "['potato', 'carrot', 'onion', 'broccoli', 'lettuce']\n",
      "Does it grow underground?\n",
      "['carrot', 'potato', 'broccoli']\n",
      "Is it usually round?\n",
      "['carrot', 'potato']\n"
     ]
    },
    {
     "data": {
      "text/plain": [
       "{'apple': -0.5,\n",
       " 'broccoli': 0.5,\n",
       " 'carrot': 1.5,\n",
       " 'lettuce': -0.5,\n",
       " 'onion': 0.5,\n",
       " 'orange': -0.5,\n",
       " 'peach': -0.5,\n",
       " 'potato': 1.5,\n",
       " 'raspberry': -0.5,\n",
       " 'strawberry': -0.5}"
      ]
     },
     "execution_count": 15,
     "metadata": {},
     "output_type": "execute_result"
    }
   ],
   "source": [
    "print(me.getFirstQuestion())\n",
    "print(me.remainingFood)\n",
    "me.updateLikelihood(me.questionsUsed[0], -1)\n",
    "print(me.getNextQuestion(me.questionsUsed[0], -1))\n",
    "print(me.remainingFood)\n",
    "me.updateLikelihood(me.questionsUsed[1],-1)\n",
    "print(me.getNextQuestion(me.questionsUsed[1], -1))\n",
    "print(me.remainingFood)\n",
    "me.updateLikelihood(me.questionsUsed[2], 1)\n",
    "print(me.getNextQuestion(me.questionsUsed[2], 1))\n",
    "print(me.remainingFood)\n",
    "me.updateWeights('raspberry', False)\n",
    "me.likelihood\n"
   ]
  },
  {
   "cell_type": "code",
   "execution_count": 89,
   "metadata": {},
   "outputs": [
    {
     "name": "stdout",
     "output_type": "stream",
     "text": [
      "{'is it a fruit?': 'is it a fruit?', 'Is it commonly found on a sandwich?': 'Is it commonly found on a sandwich?', 'Does it grow on a tree?': 'Does it grow on a tree?', 'Does it grow underground?': 'Does it grow underground?', 'Is it commonly found in pie?': 'Is it commonly found in pie?', 'Is it mostly green?': 'Is it mostly green?', 'Does it grow on a bush?': 'Does it grow on a bush?', 'Is it usually round?': 'Is it usually round?', 'Does it have seeds on the outside?': 'Does it have seeds on the outside?'}\n"
     ]
    },
    {
     "data": {
      "text/plain": [
       "['is it a fruit?',\n",
       " 'Is it commonly found on a sandwich?',\n",
       " 'Does it grow on a tree?',\n",
       " 'Does it grow underground?',\n",
       " 'Is it commonly found in pie?',\n",
       " 'Is it mostly green?',\n",
       " 'Does it grow on a bush?',\n",
       " 'Is it usually round?',\n",
       " 'Does it have seeds on the outside?']"
      ]
     },
     "execution_count": 89,
     "metadata": {},
     "output_type": "execute_result"
    }
   ],
   "source": [
    "print({me.questions[i]:me.questions[i] for i in range(len(me.questions))})\n",
    "me.questions"
   ]
  },
  {
   "cell_type": "code",
   "execution_count": 91,
   "metadata": {
    "collapsed": true
   },
   "outputs": [],
   "source": [
    "\n",
    "myfile = open('dummy.csv', 'w')\n",
    "with myfile:\n",
    "    myFields = me.questions\n",
    "    writer = csv.DictWriter(myfile, fieldnames=myFields)    \n",
    "    writer.writeheader()\n",
    "    for i in me.answers:\n",
    "        newlist = [i]\n",
    "        for j in me.answers[i]:\n",
    "            newlist.append(j)\n",
    "        writer.writerow({me.questions[k]:newlist[k] for k in range(len(me.questions))})"
   ]
  },
  {
   "cell_type": "code",
   "execution_count": null,
   "metadata": {
    "collapsed": true
   },
   "outputs": [],
   "source": []
  }
 ],
 "metadata": {
  "kernelspec": {
   "display_name": "Python 3",
   "language": "python",
   "name": "python3"
  },
  "language_info": {
   "codemirror_mode": {
    "name": "ipython",
    "version": 3
   },
   "file_extension": ".py",
   "mimetype": "text/x-python",
   "name": "python",
   "nbconvert_exporter": "python",
   "pygments_lexer": "ipython3",
   "version": "3.6.1"
  }
 },
 "nbformat": 4,
 "nbformat_minor": 2
}
