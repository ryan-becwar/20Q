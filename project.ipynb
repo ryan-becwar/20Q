{
 "cells": [
  {
   "cell_type": "markdown",
   "metadata": {},
   "source": [
    "# 20 Questions"
   ]
  },
  {
   "cell_type": "markdown",
   "metadata": {},
   "source": [
    "*Ryan Becwar and Matthew Dragan*"
   ]
  },
  {
   "cell_type": "markdown",
   "metadata": {},
   "source": [
    "# Table of Contents\n",
    "* [20 Questions](#20-Questions)\n",
    "\t* [Inroduction](#Introduction)\n",
    "\t* [Methods](#Methods)\n",
    "      * [twentyQ Class](#twentyQ-Class)\n",
    "      * [UI Class](#UI-Class)"
   ]
  },
  {
   "cell_type": "markdown",
   "metadata": {},
   "source": [
    "## Introduction\n",
    "An intelligent agent should be able to make descisions given some information.  In addition, such an agent should be able to learn about a new subject given some information on that subject.  In this project we will try to produce a simplified version of the described agent by creating a program that can learn about new items by asking questions about them. \n",
    "\n",
    "The agent will play a version of the 20 questions game. 20 questions is a game in which a computer will try to guess what the player is thinking based on some simple 'yes' or 'no' questions.  In this version the goal objects will consist of fruits and vegetables, and the questions will be specialized for differentiating between fruits and vegetables. \n",
    "Additionally, we will try to produce a version of the game that has the following characteristics:\n",
    "  * The game will determine which question to ask next based on which question most evenly divides the remaining possibilities.  This means that if the game has narrowed the possibilities down to 10 fruits and vegetables then the game will try to pick the next question that has 5 'yes' answers and 5 'no' answers.  \n",
    "  * If the plays plays a fruit or vegetable that the game has not heard of before then the game will add that fruit or vegetable to the database and use the players answers as the 'truth' about that fruit or vegetable.  For example, if the player is playing 'raspberry' and the game has never heard of 'raspberry' before then 'raspberry' will be added to the database and the answers that the player gave will be considered to be the 'truth' about raspberries.  If the player chooses a fruit or vegetable that hasn't been played before then we may ask the player to answer all questions about that fruit or vegetable so the answers will be added to the database.  \n",
    "  * If there are two fruits/vegetables that are hard to tell apart based on the questions (radishes and beets for example) the game will pick the fruit or vegetable that has been played the most frequently (a.k.a. the one that is most likely based on previous plays of the game).  \n",
    "  * The game will be able to get to the correct answer even if the player answers a question wrong.  \n",
    "  * The game will be able to change an answer about a fruit or vegetable if it believes that the current answer is wrong.  For example, say the game was taught that a tomato is a vegatable, and the user plays 'tomato' several times answering that 'yes' a tomato is a fruit then the game will eventually learn that a tomato is more likely a fruit than a vegetable.    \n",
    "  \n",
    "If implemented correctly, and with enough practice, the game should be able to frequently guess the correct fruit or vegetable based on the player's input.  "
   ]
  },
  {
   "cell_type": "markdown",
   "metadata": {},
   "source": [
    "## Methods\n",
    "In order to create the game we implemented a twentyQ class in python which will implement all of the functions required to run the game and a user interface class UI which will allow a player to play the game in the commandline. "
   ]
  },
  {
   "cell_type": "markdown",
   "metadata": {},
   "source": [
    "### twentyQ Class\n",
    "This class contains the required functions to implement the 20 Questions game.\n",
    "The twentyQ class contains the following functions:\n",
    "  * constructor\n",
    "    * (Brief) - This function initializes the twenty questions class.  \n",
    "    * (Details) - This function initializes all of the class variables of the twenty questions class, calls the $readData()$ class function to read data from files, and calls the $processData()$ class function to set up the data for use.  \n",
    "    The class variables are as follows:\n",
    "      * `answers` (dictionary) - This dictionary holds the answers to each question for each fruit and vegetable. The keys are the possible objects the player could be thinking of (ex. apple, carrot, etc.) and the values are array lists of answers for specific questions for that specific key.  \n",
    "      * `likelihood` (dictionary) - This dictionary holds the likelihood that an object (ex. apple, carrot, etc.) is the object that the player is thinking of.  The keys are the objects the player could be thinking of and the values are a float giving the likelihood for each object.  \n",
    "      * `prevAnswers` (dictionary) - \n",
    "      * `timesPlayed` (dictionary) - For each object, this dictionary holds the number of times that question has been played.  The keys into the dictionary are the objects and the values are array lists that hold the number of times that question has been played for that specific object.  \n",
    "      * `questions` (array list) - An array list that holds the list of questions as strings.  \n",
    "      * `questionsUsed` (array list) - An array which holds the index of the questions that have been asked.  These indeces correspond with the `questions` array.  \n",
    "      * `remainingFood` (array list) - \n",
    "      * `answersGiven` (array list) - An array list which holds the answers given by the player.  These answers correspond to the `questionsUsed` array list.  \n",
    "    * (Inputs) - None\n",
    "    * (Outputs) - None\n",
    "    * (Returns) - None\n",
    "    * (Notes) - Relies on $processData()$ function and $readData()$ function.\n",
    "\n",
    "\n",
    "  * $readData()$\n",
    "    * (Brief) Reads the data from CSV files required to play the game. \n",
    "    * (Details) This function opens the three CSV files required to play the game into three different data frames using the `pandas` library.  Then the function separates the questions from one of the data frames and stores them in the class variable `questions`.  Then The function separates the data from each dataframe and stores them in variables\n",
    "    * (Inputs) - None\n",
    "    * (Outputs) - None\n",
    "    * (Returns) - returns a tuple containing three matrices.  The first matrix contains the objects and the answers to the corresponding questions, the second matrix contains the objects and their previous answers, and the third matrix contains the objects and the number of times a question has been asked for that object.  For each matrix the first column contains the objects and the remaining columns contain the values.\n",
    "    * (Notes) - Relies on the `pandas` library and the `numpy` library.  \n",
    "    \n",
    "    \n",
    "  * $processData()$\n",
    "    * (Brief) - This function sets up the data received from the $readData()$ function so it can be used by the game.   \n",
    "    * (Details) - This function sets up the `answers` dictionary, the `prevAnswers` dictionary, and the `timesPlayed` dictionary using the matrices that were returned by the $readData()$ function.\n",
    "    * (Inputs) - \n",
    "      * `data` (numpy matrix) the first value in the tuple returned by $readData()$\n",
    "      * `prevAnswers` (numpy matrix) the second value in the tuple returned by $readData()$\n",
    "      * `times` (numpy matix) the second value in the tuple returned by $readData()$\n",
    "    * (Outputs) - the `answers`, `prevAnswers`, and `timesPlayed` dictionaries will all be filled in. \n",
    "    * (Returns) - None\n",
    "    * (Notes) - None\n",
    "    \n",
    "    \n",
    "  * $resetGame()$\n",
    "    * (Brief) - resets the game. \n",
    "    * (Details) - This function will be used to restart the game if the user wants to restart by calling the constuctor again.  \n",
    "    * (Inputs) - None\n",
    "    * (Outputs) - None\n",
    "    * (Returns) - None\n",
    "    * (Notes) - Relies on the class constructor\n",
    "    \n",
    "    \n",
    "  * $getFirstQuestion()$\n",
    "    * (Brief)\n",
    "    * (Details)\n",
    "    * (Inputs)\n",
    "    * (Outputs)\n",
    "    * (Returns)\n",
    "    * (Notes)\n",
    "  \n",
    "  \n",
    "  * $getNextQuestion()$\n",
    "    * (Brief)\n",
    "    * (Details)\n",
    "    * (Inputs)\n",
    "    * (Outputs)\n",
    "    * (Returns)\n",
    "    * (Notes)\n",
    "    \n",
    "    \n",
    "  * $answerQuestion()$\n",
    "    * (Brief)\n",
    "    * (Details)\n",
    "    * (Inputs)\n",
    "    * (Outputs)\n",
    "    * (Returns)\n",
    "    * (Notes)\n",
    "    \n",
    "    \n",
    "  * $convertAnswer()$\n",
    "    * (Brief) - This function converts a input string from the player to a representative value\n",
    "    * (Details) - This function takes an input from the user.  If the player inputs a 'yes' or 'y' the function returns a 1, if the player inputs a 'no' or an 'n' the function returns a 0, if the player inputs a 'sometimes', 'maybe', 'unknown', or 's' the function will return 0.5, and if the player inputs any other value the function will return a -1 to indictate that the value has not been understood. \n",
    "    * (Inputs) - currentA (string) the answer input by the player. \n",
    "    * (Outputs) - None\n",
    "    * (Returns) - Returns the value that represents the input of the user\n",
    "    * (Notes) - None\n",
    "    \n",
    "    \n",
    "  * $updateLikelihood()$\n",
    "    * (Brief)\n",
    "    * (Details)\n",
    "    * (Inputs)\n",
    "    * (Outputs)\n",
    "    * (Returns)\n",
    "    * (Notes)\n",
    "    \n",
    "    \n",
    "  * $getMostLikely()$\n",
    "    * (Brief)\n",
    "    * (Details)\n",
    "    * (Inputs)\n",
    "    * (Outputs)\n",
    "    * (Returns)\n",
    "    * (Notes)\n",
    "    \n",
    "    \n",
    "  * $updateWeights()$\n",
    "    * (Brief)\n",
    "    * (Details)\n",
    "    * (Inputs)\n",
    "    * (Outputs)\n",
    "    * (Returns)\n",
    "    * (Notes)\n",
    "    \n",
    "    \n",
    "  * $askAnotherQuestion()$\n",
    "    * (Brief)\n",
    "    * (Details)\n",
    "    * (Inputs)\n",
    "    * (Outputs)\n",
    "    * (Returns)\n",
    "    * (Notes)\n",
    "    \n",
    "    \n",
    "  * $writeToCSV()$\n",
    "    * (Brief)\n",
    "    * (Details)\n",
    "    * (Inputs)\n",
    "    * (Outputs)\n",
    "    * (Returns)\n",
    "    * (Notes)"
   ]
  },
  {
   "cell_type": "markdown",
   "metadata": {},
   "source": [
    "### UI Class\n",
    "This class implements the user interface of the twenty questions game.  \n",
    "The UI class contains the following Functions:\n",
    "  * constructor\n",
    "    * (Brief) - Initializes the UI class\n",
    "    * (Details) - Initializes the UI class by creating an instance of the twenty questions game.  \n",
    "    * (Inputs) - None\n",
    "    * (Outputs) - None\n",
    "    * (Returns) - None\n",
    "    * (Notes) - Relies on the `twentyQ` class.\n",
    "    \n",
    "    \n",
    "  * $getRemainingUnanswered()$\n",
    "    * (Brief)\n",
    "    * (Details)\n",
    "    * (Inputs)\n",
    "    * (Outputs)\n",
    "    * (Returns)\n",
    "    * (Notes)\n",
    "    \n",
    "  * $playGame()$\n",
    "    * (Brief)\n",
    "    * (Details)\n",
    "    * (Inputs)\n",
    "    * (Outputs)\n",
    "    * (Returns)\n",
    "    * (Notes)"
   ]
  },
  {
   "cell_type": "code",
   "execution_count": 1,
   "metadata": {
    "collapsed": true
   },
   "outputs": [],
   "source": [
    "import numpy as np\n",
    "import pandas as pd\n",
    "import csv\n",
    "import copy as cp\n",
    "import random\n",
    "from twentyQ import *\n",
    "from UI import *"
   ]
  },
  {
   "cell_type": "code",
   "execution_count": 3,
   "metadata": {},
   "outputs": [
    {
     "name": "stdout",
     "output_type": "stream",
     "text": [
      "Welcome to 20 Questions!\n",
      "Is it usually larger than a softball?\n",
      "n\n"
     ]
    },
    {
     "ename": "IndexError",
     "evalue": "list index out of range",
     "output_type": "error",
     "traceback": [
      "\u001b[0;31m---------------------------------------------------------------------------\u001b[0m",
      "\u001b[0;31mIndexError\u001b[0m                                Traceback (most recent call last)",
      "\u001b[0;32m<ipython-input-3-a009c8ff6613>\u001b[0m in \u001b[0;36m<module>\u001b[0;34m()\u001b[0m\n\u001b[1;32m      1\u001b[0m \u001b[0mme\u001b[0m \u001b[0;34m=\u001b[0m \u001b[0mUI\u001b[0m\u001b[0;34m(\u001b[0m\u001b[0;34m)\u001b[0m\u001b[0;34m\u001b[0m\u001b[0m\n\u001b[0;32m----> 2\u001b[0;31m \u001b[0mme\u001b[0m\u001b[0;34m.\u001b[0m\u001b[0mplayGame\u001b[0m\u001b[0;34m(\u001b[0m\u001b[0;34m)\u001b[0m\u001b[0;34m\u001b[0m\u001b[0m\n\u001b[0m",
      "\u001b[0;32m/media/mrdragan/Ubuntu/myCSU/cs440/project/20Q/UI.py\u001b[0m in \u001b[0;36mplayGame\u001b[0;34m(self)\u001b[0m\n\u001b[1;32m     43\u001b[0m                 \u001b[0mself\u001b[0m\u001b[0;34m.\u001b[0m\u001b[0mgame\u001b[0m\u001b[0;34m.\u001b[0m\u001b[0manswerQuestion\u001b[0m\u001b[0;34m(\u001b[0m\u001b[0mself\u001b[0m\u001b[0;34m.\u001b[0m\u001b[0mgame\u001b[0m\u001b[0;34m.\u001b[0m\u001b[0mquestionsUsed\u001b[0m\u001b[0;34m[\u001b[0m\u001b[0mi\u001b[0m\u001b[0;34m]\u001b[0m\u001b[0;34m,\u001b[0m \u001b[0manswer\u001b[0m\u001b[0;34m)\u001b[0m\u001b[0;34m\u001b[0m\u001b[0m\n\u001b[1;32m     44\u001b[0m \u001b[0;34m\u001b[0m\u001b[0m\n\u001b[0;32m---> 45\u001b[0;31m             \u001b[0mselected\u001b[0m \u001b[0;34m=\u001b[0m \u001b[0mself\u001b[0m\u001b[0;34m.\u001b[0m\u001b[0mgame\u001b[0m\u001b[0;34m.\u001b[0m\u001b[0mremainingFood\u001b[0m\u001b[0;34m[\u001b[0m\u001b[0;36m0\u001b[0m\u001b[0;34m]\u001b[0m\u001b[0;34m\u001b[0m\u001b[0m\n\u001b[0m\u001b[1;32m     46\u001b[0m             \u001b[0mprint\u001b[0m\u001b[0;34m(\u001b[0m\u001b[0;34m\"Are you thinking of\"\u001b[0m\u001b[0;34m,\u001b[0m \u001b[0mselected\u001b[0m\u001b[0;34m,\u001b[0m \u001b[0;34m\"?\"\u001b[0m\u001b[0;34m)\u001b[0m\u001b[0;34m\u001b[0m\u001b[0m\n\u001b[1;32m     47\u001b[0m             \u001b[0mcorrect\u001b[0m \u001b[0;34m=\u001b[0m \u001b[0mself\u001b[0m\u001b[0;34m.\u001b[0m\u001b[0mgame\u001b[0m\u001b[0;34m.\u001b[0m\u001b[0mconvertAnswer\u001b[0m\u001b[0;34m(\u001b[0m\u001b[0minput\u001b[0m\u001b[0;34m(\u001b[0m\u001b[0;34m)\u001b[0m\u001b[0;34m)\u001b[0m\u001b[0;34m\u001b[0m\u001b[0m\n",
      "\u001b[0;31mIndexError\u001b[0m: list index out of range"
     ]
    }
   ],
   "source": [
    "me = UI()\n",
    "me.playGame()"
   ]
  },
  {
   "cell_type": "code",
   "execution_count": 3,
   "metadata": {},
   "outputs": [
    {
     "data": {
      "text/plain": [
       "{'apple': 0,\n",
       " 'broccoli': 0,\n",
       " 'carrot': 0,\n",
       " 'lettuce': 0,\n",
       " 'onion': 0,\n",
       " 'orange': 0,\n",
       " 'peach': 0,\n",
       " 'potato': 0,\n",
       " 'raspberry': 0,\n",
       " 'strawberry': 0}"
      ]
     },
     "execution_count": 3,
     "metadata": {},
     "output_type": "execute_result"
    }
   ],
   "source": [
    "me.likelihood"
   ]
  },
  {
   "cell_type": "code",
   "execution_count": 4,
   "metadata": {},
   "outputs": [
    {
     "name": "stdout",
     "output_type": "stream",
     "text": [
      "[5, 2, 3, 3, 4, 2, 3, 6, 1]\n",
      "Does it have seeds on the outside?\n",
      "['apple', 'orange', 'peach', 'strawberry', 'raspberry', 'carrot', 'potato', 'lettuce', 'onion', 'broccoli']\n"
     ]
    },
    {
     "data": {
      "text/plain": [
       "{'apple': 0,\n",
       " 'broccoli': 0,\n",
       " 'carrot': 0,\n",
       " 'lettuce': 0,\n",
       " 'onion': 0,\n",
       " 'orange': 0,\n",
       " 'peach': 0,\n",
       " 'potato': 0,\n",
       " 'raspberry': 0,\n",
       " 'strawberry': 0}"
      ]
     },
     "execution_count": 4,
     "metadata": {},
     "output_type": "execute_result"
    }
   ],
   "source": [
    "print(me.getFirstQuestion())\n",
    "print(me.remainingFood)\n",
    "\n",
    "me.likelihood\n"
   ]
  },
  {
   "cell_type": "code",
   "execution_count": null,
   "metadata": {
    "collapsed": true
   },
   "outputs": [],
   "source": []
  }
 ],
 "metadata": {
  "kernelspec": {
   "display_name": "Python 3",
   "language": "python",
   "name": "python3"
  },
  "language_info": {
   "codemirror_mode": {
    "name": "ipython",
    "version": 3
   },
   "file_extension": ".py",
   "mimetype": "text/x-python",
   "name": "python",
   "nbconvert_exporter": "python",
   "pygments_lexer": "ipython3",
   "version": "3.6.3"
  }
 },
 "nbformat": 4,
 "nbformat_minor": 2
}
