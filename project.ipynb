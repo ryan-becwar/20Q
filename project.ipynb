{
 "cells": [
  {
   "cell_type": "markdown",
   "metadata": {},
   "source": [
    "# 20 Questions"
   ]
  },
  {
   "cell_type": "markdown",
   "metadata": {},
   "source": [
    "*Ryan Becwar and Matthew Dragan*"
   ]
  },
  {
   "cell_type": "markdown",
   "metadata": {},
   "source": [
    "## Introduction\n",
    "An intelligent agent should be able to make decicions given some information.  In addition, such an agent should be able to learn about something new that it hasn't seen before.  In this project we will try to produce a simplified version of the described agent.  The agent will play a version of 20 questions. In this version the goal objects will consist of fruits and vegetables, and the questions will be specialized for differentiating between fruits and vegetables.  This version of the game will determine the next question based on which question divides the remaining possiblilites the most evenly.  In a sense, the algorithm will do a binary search to find the most likely solution. Each question/answer combo has an associated weight, and each time a question is played and the right answer is guessed by the agent the weights will be updated.      "
   ]
  },
  {
   "cell_type": "code",
   "execution_count": 1,
   "metadata": {
    "collapsed": true
   },
   "outputs": [],
   "source": [
    "import numpy as np\n",
    "import pandas as pd"
   ]
  },
  {
   "cell_type": "code",
   "execution_count": 5,
   "metadata": {
    "collapsed": true
   },
   "outputs": [],
   "source": [
    "class twentyQ(object):\n",
    "    def __init__(self):\n",
    "        self.questions = []\n",
    "        self.answers = {}\n",
    "        self.likelihood = {}\n",
    "        self.weightVals = {}\n",
    "        self.questionsUsed = []\n",
    "        self.remainingFood = []\n",
    "        \n",
    "        data, weights = self.readData()\n",
    "        \n",
    "        self.processData(data, weights)\n",
    "        \n",
    "    def readData(self):\n",
    "        # get known data from csv\n",
    "        data = pd.read_csv('tempData.csv')\n",
    "\n",
    "        # get weights from csv\n",
    "        weights = pd.read_csv('tempWeights.csv')\n",
    "\n",
    "        # extract questions\n",
    "        questions = list(data.dtypes.index)\n",
    "        self.questions = questions[1:]\n",
    "\n",
    "        #extract data\n",
    "        data = data.values\n",
    "\n",
    "        # extract weights\n",
    "        weights = weights.values\n",
    "        \n",
    "        return data, weights\n",
    "    \n",
    "    def processData(self, data, weights):\n",
    "        for i in data:\n",
    "            self.answers[i[0]] = i[1:]\n",
    "            self.likelihood[i[0]] = 0\n",
    "            self.remainingFood.append(i[0])\n",
    "    \n",
    "        for i in weights:\n",
    "            self.weightVals[i[0]] = i[1:]\n",
    "            \n",
    "    def getFirstQuestion(self):\n",
    "        countYes = 0\n",
    "        countNo = 0\n",
    "        nextQ = []\n",
    "        for j in range(0,len(self.questions)):\n",
    "            for i in self.answers:\n",
    "                if self.answers[i][j] == 1:\n",
    "                    countYes = countYes + 1\n",
    "                elif self.answers[i][j] == -1:\n",
    "                    countNo = countNo + 1\n",
    "            nextQ.append(abs(countYes - countNo))\n",
    "            countYes = countNo = 0\n",
    "        self.questionsUsed.append(self.questions[np.argmin(nextQ)])\n",
    "        return self.questions[np.argmin(nextQ)]\n",
    "            \n",
    "    def getNextQuestion(self, currentQ, currentA):\n",
    "        couldBe = []\n",
    "        countYes = 0\n",
    "        countNo = 0\n",
    "        nextQ = []\n",
    "        for i in self.answers:\n",
    "            if self.answers[i][self.questions.index(currentQ)] is currentA:\n",
    "                couldBe.append(i)\n",
    "        self.remainingFood = list(set(self.remainingFood) & set(couldBe))\n",
    "        for j in range(0,len(self.questions)):\n",
    "            for i in self.remainingFood:\n",
    "                if self.answers[i][j] == 1:\n",
    "                    countYes = countYes + 1\n",
    "                elif self.answers[i][j] == -1:\n",
    "                    countNo = countNo + 1\n",
    "            nextQ.append(abs(countYes - countNo))\n",
    "            countYes = countNo = 0\n",
    "        self.questionsUsed.append(self.questions[np.argmin(nextQ)])\n",
    "        return self.questions[np.argmin(nextQ)]\n",
    "    \n",
    "    def convertAnswer(self, currentA):\n",
    "        if currentA is 'yes':\n",
    "            return 1\n",
    "        elif currentA is 'no':\n",
    "            return -1\n",
    "        else:\n",
    "            return 0\n",
    "        \n",
    "    def updateLikelihood(self, currentQ, currentA):\n",
    "        for i in self.answers:\n",
    "            if self.answers[i][self.questions.index(currentQ)] is currentA:\n",
    "                self.likelihood[i] = self.likelihood[i] + self.weightVals[i][self.questions.index(currentQ)] *1\n",
    "            else:\n",
    "                self.likelihood[i] = self.likelihood[i] + self.weightVals[i][self.questions.index(currentQ)] *-1\n",
    "                \n",
    "    def updateWeights(self, answer, correct):\n",
    "        if correct is True:\n",
    "            for i in self.questionsUsed:\n",
    "                self.weightVals[answer][self.questions.index(i)] = self.weightVals[answer][self.questions.index(i)] + (1-self.weightVals[answer][self.questions.index(i)])/2 \n",
    "                print(self.weightVals[answer][self.questions.index(i)])\n",
    "        else:\n",
    "            for i in self.questionsUsed:\n",
    "                self.weightVals[answer][self.questions.index(i)] = self.weightVals[answer][self.questions.index(i)] - (1-self.weightVals[answer][self.questions.index(i)])/2\n",
    "                if self.weightVals[answer][self.questions.index(i)] < .0625:\n",
    "                    self.weightVals[answer][self.questions.index(i)] = .5\n",
    "                    self.answers[answer][self.questions.index(i)] = -self.answers[answer][self.questions.index(i)]\n",
    "    \n",
    "    def writeToCSV(self):\n",
    "        data = pd.read_csv('tempData.csv')\n",
    "\n",
    "        # get weights from csv\n",
    "        weights = pd.read_csv('tempWeights.csv')"
   ]
  },
  {
   "cell_type": "code",
   "execution_count": 9,
   "metadata": {},
   "outputs": [],
   "source": [
    "me = twentyQ()"
   ]
  },
  {
   "cell_type": "code",
   "execution_count": 10,
   "metadata": {},
   "outputs": [
    {
     "name": "stdout",
     "output_type": "stream",
     "text": [
      "is it a fruit?\n",
      "Is it commonly found on a sandwich?\n",
      "['onion', 'lettuce', 'broccoli', 'carrot', 'potato']\n",
      "Does it grow underground?\n",
      "['broccoli', 'carrot', 'potato']\n",
      "Is it usually round?\n",
      "['carrot', 'potato']\n"
     ]
    },
    {
     "data": {
      "text/plain": [
       "{'apple': -0.5,\n",
       " 'broccoli': 0.5,\n",
       " 'carrot': 1.5,\n",
       " 'lettuce': -0.5,\n",
       " 'onion': 0.5,\n",
       " 'orange': -0.5,\n",
       " 'peach': -0.5,\n",
       " 'potato': 1.5,\n",
       " 'raspberry': -0.5,\n",
       " 'strawberry': -0.5}"
      ]
     },
     "execution_count": 10,
     "metadata": {},
     "output_type": "execute_result"
    }
   ],
   "source": [
    "print(me.getFirstQuestion())\n",
    "me.updateLikelihood(me.questionsUsed[0], -1)\n",
    "print(me.getNextQuestion(me.questionsUsed[0], -1))\n",
    "print(me.remainingFood)\n",
    "me.updateLikelihood(me.questionsUsed[1],-1)\n",
    "print(me.getNextQuestion(me.questionsUsed[1], -1))\n",
    "print(me.remainingFood)\n",
    "me.updateLikelihood(me.questionsUsed[2], 1)\n",
    "print(me.getNextQuestion(me.questionsUsed[2], 1))\n",
    "print(me.remainingFood)\n",
    "me.updateWeights('raspberry', False)\n",
    "me.likelihood\n"
   ]
  },
  {
   "cell_type": "code",
   "execution_count": 204,
   "metadata": {},
   "outputs": [
    {
     "data": {
      "text/plain": [
       "[3]"
      ]
     },
     "execution_count": 204,
     "metadata": {},
     "output_type": "execute_result"
    }
   ],
   "source": [
    "L1 = [1, 2, 3]\n",
    "L2 = [3, 4, 5]\n",
    "\n",
    "list(set(L1) & set(L2))"
   ]
  },
  {
   "cell_type": "code",
   "execution_count": 17,
   "metadata": {},
   "outputs": [
    {
     "data": {
      "text/plain": [
       "'orange'"
      ]
     },
     "execution_count": 17,
     "metadata": {},
     "output_type": "execute_result"
    }
   ],
   "source": [
    "data = pd.read_csv('tempData.csv')\n",
    "data['Unnamed: 0'][1]\n"
   ]
  },
  {
   "cell_type": "code",
   "execution_count": null,
   "metadata": {
    "collapsed": true
   },
   "outputs": [],
   "source": []
  }
 ],
 "metadata": {
  "kernelspec": {
   "display_name": "Python 3",
   "language": "python",
   "name": "python3"
  },
  "language_info": {
   "codemirror_mode": {
    "name": "ipython",
    "version": 3
   },
   "file_extension": ".py",
   "mimetype": "text/x-python",
   "name": "python",
   "nbconvert_exporter": "python",
   "pygments_lexer": "ipython3",
   "version": "3.6.1"
  }
 },
 "nbformat": 4,
 "nbformat_minor": 2
}
