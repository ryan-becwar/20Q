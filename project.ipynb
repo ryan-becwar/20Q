{
 "cells": [
  {
   "cell_type": "markdown",
   "metadata": {},
   "source": [
    "# 20 Questions"
   ]
  },
  {
   "cell_type": "markdown",
   "metadata": {},
   "source": [
    "*Ryan Becwar and Matthew Dragan*"
   ]
  },
  {
   "cell_type": "markdown",
   "metadata": {},
   "source": [
    "## Introduction\n",
    "An intelligent agent should be able to make decicions given some information.  In addition, such an agent should be able to learn about a new subject given some information on that subject.  In this project we will try to produce a simplified version of the described agent by creating a program that can learn about new items by asking questions about them. \n",
    "\n",
    "The agent will play a version of the 20 questions game. 20 questions is a game in which a computer will try to guess what the player is thinking based on some simple 'yes' or 'no' questions.  In this version the goal objects will consist of fruits and vegetables, and the questions will be specialized for differentiating between fruits and vegetables. \n",
    "Additionally, we will try to produce a version of the game that has the following characteristics:\n",
    "  * The game will determine which question to ask next based on which question most evenly divides the remaining possibilities.  This means that if the game has narrowed the possibilities down to 10 fruits and vegetables then the game will try to pick the next question that has 5 'yes' answers and 5 'no' answers.  \n",
    "  * If the plays plays a fruit or vegetable that the game has not heard of before then the game will add that fruit or vegetable to the database and use the players answers as the 'truth' about that fruit or vegetable.  For example, if the player is playing 'raspberry' and the game has never heard of 'raspberry' before then 'raspberry' will be added to the database and the answers that the player gave will be considered to be the 'truth' about raspberries.  If the player chooses a fruit or vegetable that hasn't been played before then we may ask the player to answer all questions about that fruit or vegetable so the answers will be added to the database.  \n",
    "  * If there are two fruits/vegetables that are hard to tell apart based on the questions (radishes and beets for example) the game will pick the fruit or vegetable that has been played the most frequently (a.k.a. the one that is most likely based on previous plays of the game).  \n",
    "  * The game will be able to get to the correct answer even if the player answers a question wrong.  \n",
    "  * The game will be able to change an answer about a fruit or vegetable if it believes that the current answer is wrong.  For example, say the game was taught that a tomato is a vegatable, and the user plays 'tomato' several times answering that 'yes' a tomato is a fruit then the game will eventually learn that a tomato is more likely a fruit than a vegetable.    \n",
    "  \n",
    "If implemented correctly, and with enough practice, the game should be able to frequently guess the correct fruit or vegetable based on the player's input.  "
   ]
  },
  {
   "cell_type": "markdown",
   "metadata": {},
   "source": [
    "## Methods\n",
    "In order to create the game we implemented a twentyQ class in python which will implement all of the functions required to run the game.  "
   ]
  },
  {
   "cell_type": "code",
   "execution_count": 5,
   "metadata": {
    "collapsed": true
   },
   "outputs": [],
   "source": [
    "import numpy as np\n",
    "import pandas as pd\n",
    "import csv\n",
    "import copy as cp\n",
    "import random\n",
    "from twentyQ import *"
   ]
  },
  {
   "cell_type": "code",
   "execution_count": 6,
   "metadata": {},
   "outputs": [
    {
     "data": {
      "text/plain": [
       "['is it a fruit?',\n",
       " 'Is it commonly found on a sandwich?',\n",
       " 'Does it grow on a tree?',\n",
       " 'Does it grow underground?',\n",
       " 'Is it commonly found in pie?',\n",
       " 'Is it mostly green?',\n",
       " 'Does it grow on a bush?',\n",
       " 'Is it usually round?',\n",
       " 'Does it have seeds on the outside?']"
      ]
     },
     "execution_count": 6,
     "metadata": {},
     "output_type": "execute_result"
    }
   ],
   "source": [
    "me = twentyQ()\n",
    "me.questions"
   ]
  },
  {
   "cell_type": "code",
   "execution_count": 3,
   "metadata": {},
   "outputs": [
    {
     "data": {
      "text/plain": [
       "{'apple': 0,\n",
       " 'broccoli': 0,\n",
       " 'carrot': 0,\n",
       " 'lettuce': 0,\n",
       " 'onion': 0,\n",
       " 'orange': 0,\n",
       " 'peach': 0,\n",
       " 'potato': 0,\n",
       " 'raspberry': 0,\n",
       " 'strawberry': 0}"
      ]
     },
     "execution_count": 3,
     "metadata": {},
     "output_type": "execute_result"
    }
   ],
   "source": [
    "me.likelihood"
   ]
  },
  {
   "cell_type": "code",
   "execution_count": 4,
   "metadata": {},
   "outputs": [
    {
     "name": "stdout",
     "output_type": "stream",
     "text": [
      "[5, 2, 3, 3, 4, 2, 3, 6, 1]\n",
      "Does it have seeds on the outside?\n",
      "['apple', 'orange', 'peach', 'strawberry', 'raspberry', 'carrot', 'potato', 'lettuce', 'onion', 'broccoli']\n"
     ]
    },
    {
     "data": {
      "text/plain": [
       "{'apple': 0,\n",
       " 'broccoli': 0,\n",
       " 'carrot': 0,\n",
       " 'lettuce': 0,\n",
       " 'onion': 0,\n",
       " 'orange': 0,\n",
       " 'peach': 0,\n",
       " 'potato': 0,\n",
       " 'raspberry': 0,\n",
       " 'strawberry': 0}"
      ]
     },
     "execution_count": 4,
     "metadata": {},
     "output_type": "execute_result"
    }
   ],
   "source": [
    "print(me.getFirstQuestion())\n",
    "print(me.remainingFood)\n",
    "\n",
    "me.likelihood\n"
   ]
  },
  {
   "cell_type": "code",
   "execution_count": null,
   "metadata": {
    "collapsed": true
   },
   "outputs": [],
   "source": []
  }
 ],
 "metadata": {
  "kernelspec": {
   "display_name": "Python 3",
   "language": "python",
   "name": "python3"
  },
  "language_info": {
   "codemirror_mode": {
    "name": "ipython",
    "version": 3
   },
   "file_extension": ".py",
   "mimetype": "text/x-python",
   "name": "python",
   "nbconvert_exporter": "python",
   "pygments_lexer": "ipython3",
   "version": "3.6.3"
  }
 },
 "nbformat": 4,
 "nbformat_minor": 2
}
