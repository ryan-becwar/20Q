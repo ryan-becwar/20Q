{
 "cells": [
  {
   "cell_type": "code",
   "execution_count": 148,
   "metadata": {},
   "outputs": [],
   "source": [
    "import numpy as np\n",
    "import pandas as pd"
   ]
  },
  {
   "cell_type": "code",
   "execution_count": 280,
   "metadata": {},
   "outputs": [],
   "source": [
    "class twentyQ(object):\n",
    "    def __init__(self):\n",
    "        self.questions = []\n",
    "        self.answers = {}\n",
    "        self.likelihood = {}\n",
    "        self.weightVals = {}\n",
    "        self.questionsUsed = []\n",
    "        self.remainingFood = []\n",
    "        \n",
    "        data, weights = self.readData()\n",
    "        \n",
    "        self.processData(data, weights)\n",
    "        \n",
    "    def readData(self):\n",
    "        # get known data from csv\n",
    "        data = pd.read_csv('tempData.csv')\n",
    "\n",
    "        # get weights from csv\n",
    "        weights = pd.read_csv('tempWeights.csv')\n",
    "\n",
    "        # extract questions\n",
    "        questions = list(data.dtypes.index)\n",
    "        self.questions = questions[1:]\n",
    "\n",
    "        #extract data\n",
    "        data = data.values\n",
    "\n",
    "        # extract weights\n",
    "        weights = weights.values\n",
    "        \n",
    "        return data, weights\n",
    "    \n",
    "    def processData(self, data, weights):\n",
    "        for i in data:\n",
    "            self.answers[i[0]] = i[1:]\n",
    "            self.likelihood[i[0]] = 0\n",
    "            self.remainingFood.append(i[0])\n",
    "    \n",
    "        for i in weights:\n",
    "            self.weightVals[i[0]] = i[1:]\n",
    "            \n",
    "    def getFirstQuestion(self):\n",
    "        countYes = 0\n",
    "        countNo = 0\n",
    "        nextQ = []\n",
    "        for j in range(0,len(self.questions)):\n",
    "            for i in self.answers:\n",
    "                if self.answers[i][j] == 1:\n",
    "                    countYes = countYes + 1\n",
    "                elif self.answers[i][j] == -1:\n",
    "                    countNo = countNo + 1\n",
    "            nextQ.append(abs(countYes - countNo))\n",
    "            countYes = countNo = 0\n",
    "        self.questionsUsed.append(self.questions[np.argmin(nextQ)])\n",
    "        return self.questions[np.argmin(nextQ)]\n",
    "            \n",
    "    def getNextQuestion(self, currentQ, currentA):\n",
    "        couldBe = []\n",
    "        countYes = 0\n",
    "        countNo = 0\n",
    "        nextQ = []\n",
    "        for i in self.answers:\n",
    "            if self.answers[i][self.questions.index(currentQ)] is currentA:\n",
    "                couldBe.append(i)\n",
    "        self.remainingFood = list(set(self.remainingFood) & set(couldBe))\n",
    "        for j in range(0,len(self.questions)):\n",
    "            for i in self.remainingFood:\n",
    "                if self.answers[i][j] == 1:\n",
    "                    countYes = countYes + 1\n",
    "                elif self.answers[i][j] == -1:\n",
    "                    countNo = countNo + 1\n",
    "            nextQ.append(abs(countYes - countNo))\n",
    "            countYes = countNo = 0\n",
    "        self.questionsUsed.append(self.questions[np.argmin(nextQ)])\n",
    "        return self.questions[np.argmin(nextQ)]\n",
    "    \n",
    "    def convertAnswer(self, currentA):\n",
    "        if currentA is 'yes':\n",
    "            return 1\n",
    "        elif currentA is 'no':\n",
    "            return -1\n",
    "        else:\n",
    "            return 0\n",
    "        \n",
    "    def updateLikelihood(self, currentQ, currentA):\n",
    "        for i in self.answers:\n",
    "            if self.answers[i][self.questions.index(currentQ)] is currentA:\n",
    "                self.likelihood[i] = self.likelihood[i] + self.weightVals[i][self.questions.index(currentQ)] *1\n",
    "            else:\n",
    "                self.likelihood[i] = self.likelihood[i] + self.weightVals[i][self.questions.index(currentQ)] *-1\n",
    "                \n",
    "    def updateWeights(self, answer, correct):\n",
    "        if correct is True:\n",
    "            for i in self.questionsUsed:\n",
    "                self.weightVals[answer][self.questions.index(i)] = self.weightVals[answer][self.questions.index(i)] + (1-self.weightVals[answer][self.questions.index(i)])/2 \n",
    "                print(self.weightVals[answer][self.questions.index(i)])\n",
    "        else:\n",
    "            for i in self.questionsUsed:\n",
    "                self.weightVals[answer][self.questions.index(i)] = self.weightVals[answer][self.questions.index(i)] - (1-self.weightVals[answer][self.questions.index(i)])/2\n",
    "                if self.weightVals[answer][self.questions.index(i)] < .0625:\n",
    "                    self.weightVals[answer][self.questions.index(i)] = .5\n",
    "                    self.answers[answer][self.questions.index(i)] = -self.answers[answer][self.questions.index(i)]\n",
    "    \n",
    "    def writeToCSV(self):\n",
    "        data = pd.read_csv('tempData.csv')\n",
    "\n",
    "        # get weights from csv\n",
    "        weights = pd.read_csv('tempWeights.csv')"
   ]
  },
  {
   "cell_type": "code",
   "execution_count": 281,
   "metadata": {},
   "outputs": [],
   "source": [
    "me = twentyQ()"
   ]
  },
  {
   "cell_type": "code",
   "execution_count": 282,
   "metadata": {},
   "outputs": [
    {
     "name": "stdout",
     "output_type": "stream",
     "text": [
      "is it a fruit?\n",
      "Is it commonly found on a sandwich?\n",
      "['onion', 'potato', 'lettuce', 'carrot', 'broccoli']\n",
      "Does it grow underground?\n",
      "['potato', 'carrot', 'broccoli']\n",
      "Is it usually round?\n",
      "['potato', 'carrot']\n"
     ]
    },
    {
     "data": {
      "text/plain": [
       "{'apple': array([0.5, 0.5, 0.5, 0.5, 0.5, 0.5, 0.5, 0.5, 0.5], dtype=object),\n",
       " 'broccoli': array([0.5, 0.5, 0.5, 0.5, 0.5, 0.5, 0.5, 0.5, 0.5], dtype=object),\n",
       " 'carrot': array([0.5, 0.5, 0.5, 0.5, 0.5, 0.5, 0.5, 0.5, 0.5], dtype=object),\n",
       " 'lettuce': array([0.5, 0.5, 0.5, 0.5, 0.5, 0.5, 0.5, 0.5, 0.5], dtype=object),\n",
       " 'onion': array([0.5, 0.5, 0.5, 0.5, 0.5, 0.5, 0.5, 0.5, 0.5], dtype=object),\n",
       " 'orange': array([0.5, 0.5, 0.5, 0.5, 0.5, 0.5, 0.5, 0.5, 0.5], dtype=object),\n",
       " 'peach': array([0.5, 0.5, 0.5, 0.5, 0.5, 0.5, 0.5, 0.5, 0.5], dtype=object),\n",
       " 'potato': array([0.5, 0.5, 0.5, 0.5, 0.5, 0.5, 0.5, 0.5, 0.5], dtype=object),\n",
       " 'raspberry': array([0.25, 0.25, 0.5, 0.25, 0.5, 0.5, 0.5, 0.25, 0.5], dtype=object),\n",
       " 'strawberry': array([0.5, 0.5, 0.5, 0.5, 0.5, 0.5, 0.5, 0.5, 0.5], dtype=object)}"
      ]
     },
     "execution_count": 282,
     "metadata": {},
     "output_type": "execute_result"
    }
   ],
   "source": [
    "print(me.getFirstQuestion())\n",
    "me.updateLikelihood(me.questionsUsed[0], -1)\n",
    "print(me.getNextQuestion(me.questionsUsed[0], -1))\n",
    "print(me.remainingFood)\n",
    "me.updateLikelihood(me.questionsUsed[1],-1)\n",
    "print(me.getNextQuestion(me.questionsUsed[1], -1))\n",
    "print(me.remainingFood)\n",
    "me.updateLikelihood(me.questionsUsed[2], 1)\n",
    "print(me.getNextQuestion(me.questionsUsed[2], 1))\n",
    "print(me.remainingFood)\n",
    "me.updateWeights('raspberry', False)\n",
    "me.weightVals\n"
   ]
  },
  {
   "cell_type": "code",
   "execution_count": 204,
   "metadata": {},
   "outputs": [
    {
     "data": {
      "text/plain": [
       "[3]"
      ]
     },
     "execution_count": 204,
     "metadata": {},
     "output_type": "execute_result"
    }
   ],
   "source": [
    "L1 = [1, 2, 3]\n",
    "L2 = [3, 4, 5]\n",
    "\n",
    "list(set(L1) & set(L2))"
   ]
  },
  {
   "cell_type": "code",
   "execution_count": 294,
   "metadata": {},
   "outputs": [
    {
     "ename": "AttributeError",
     "evalue": "'str' object has no attribute 'columns'",
     "output_type": "error",
     "traceback": [
      "\u001b[0;31m---------------------------------------------------------------------------\u001b[0m",
      "\u001b[0;31mAttributeError\u001b[0m                            Traceback (most recent call last)",
      "\u001b[0;32m<ipython-input-294-5935d355ca78>\u001b[0m in \u001b[0;36m<module>\u001b[0;34m()\u001b[0m\n\u001b[1;32m      1\u001b[0m \u001b[0mdata\u001b[0m \u001b[0;34m=\u001b[0m \u001b[0mpd\u001b[0m\u001b[0;34m.\u001b[0m\u001b[0mread_csv\u001b[0m\u001b[0;34m(\u001b[0m\u001b[0;34m'tempData.csv'\u001b[0m\u001b[0;34m,\u001b[0m\u001b[0mheader\u001b[0m \u001b[0;34m=\u001b[0m \u001b[0;32mNone\u001b[0m\u001b[0;34m)\u001b[0m\u001b[0;34m\u001b[0m\u001b[0m\n\u001b[0;32m----> 2\u001b[0;31m \u001b[0mpd\u001b[0m\u001b[0;34m.\u001b[0m\u001b[0mDataFrame\u001b[0m\u001b[0;34m.\u001b[0m\u001b[0mto_csv\u001b[0m\u001b[0;34m(\u001b[0m\u001b[0;34m'dummy.csv'\u001b[0m\u001b[0;34m)\u001b[0m\u001b[0;34m\u001b[0m\u001b[0m\n\u001b[0m",
      "\u001b[0;32m/media/mrdragan/Ubuntu/anaconda3/lib/python3.6/site-packages/pandas/core/frame.py\u001b[0m in \u001b[0;36mto_csv\u001b[0;34m(self, path_or_buf, sep, na_rep, float_format, columns, header, index, index_label, mode, encoding, compression, quoting, quotechar, line_terminator, chunksize, tupleize_cols, date_format, doublequote, escapechar, decimal)\u001b[0m\n\u001b[1;32m   1400\u001b[0m                                      \u001b[0mdate_format\u001b[0m\u001b[0;34m=\u001b[0m\u001b[0mdate_format\u001b[0m\u001b[0;34m,\u001b[0m\u001b[0;34m\u001b[0m\u001b[0m\n\u001b[1;32m   1401\u001b[0m                                      \u001b[0mdoublequote\u001b[0m\u001b[0;34m=\u001b[0m\u001b[0mdoublequote\u001b[0m\u001b[0;34m,\u001b[0m\u001b[0;34m\u001b[0m\u001b[0m\n\u001b[0;32m-> 1402\u001b[0;31m                                      escapechar=escapechar, decimal=decimal)\n\u001b[0m\u001b[1;32m   1403\u001b[0m         \u001b[0mformatter\u001b[0m\u001b[0;34m.\u001b[0m\u001b[0msave\u001b[0m\u001b[0;34m(\u001b[0m\u001b[0;34m)\u001b[0m\u001b[0;34m\u001b[0m\u001b[0m\n\u001b[1;32m   1404\u001b[0m \u001b[0;34m\u001b[0m\u001b[0m\n",
      "\u001b[0;32m/media/mrdragan/Ubuntu/anaconda3/lib/python3.6/site-packages/pandas/io/formats/format.py\u001b[0m in \u001b[0;36m__init__\u001b[0;34m(self, obj, path_or_buf, sep, na_rep, float_format, cols, header, index, index_label, mode, nanRep, encoding, compression, quoting, line_terminator, chunksize, tupleize_cols, quotechar, date_format, doublequote, escapechar, decimal)\u001b[0m\n\u001b[1;32m   1515\u001b[0m \u001b[0;34m\u001b[0m\u001b[0m\n\u001b[1;32m   1516\u001b[0m         \u001b[0mself\u001b[0m\u001b[0;34m.\u001b[0m\u001b[0mtupleize_cols\u001b[0m \u001b[0;34m=\u001b[0m \u001b[0mtupleize_cols\u001b[0m\u001b[0;34m\u001b[0m\u001b[0m\n\u001b[0;32m-> 1517\u001b[0;31m         self.has_mi_columns = (isinstance(obj.columns, MultiIndex) and\n\u001b[0m\u001b[1;32m   1518\u001b[0m                                not self.tupleize_cols)\n\u001b[1;32m   1519\u001b[0m \u001b[0;34m\u001b[0m\u001b[0m\n",
      "\u001b[0;31mAttributeError\u001b[0m: 'str' object has no attribute 'columns'"
     ]
    }
   ],
   "source": [
    "data = pd.read_csv('tempData.csv',header = None)\n",
    "pd.DataFrame.to_csv('dummy.csv')"
   ]
  },
  {
   "cell_type": "code",
   "execution_count": null,
   "metadata": {
    "collapsed": true
   },
   "outputs": [],
   "source": []
  }
 ],
 "metadata": {
  "kernelspec": {
   "display_name": "Python 3",
   "language": "python",
   "name": "python3"
  },
  "language_info": {
   "codemirror_mode": {
    "name": "ipython",
    "version": 3
   },
   "file_extension": ".py",
   "mimetype": "text/x-python",
   "name": "python",
   "nbconvert_exporter": "python",
   "pygments_lexer": "ipython3",
   "version": "3.6.3"
  }
 },
 "nbformat": 4,
 "nbformat_minor": 2
}
